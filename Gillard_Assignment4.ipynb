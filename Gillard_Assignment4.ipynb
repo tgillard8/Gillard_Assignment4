{
 "cells": [
  {
   "cell_type": "code",
   "execution_count": 15,
   "id": "f05ca186",
   "metadata": {},
   "outputs": [
    {
     "name": "stdout",
     "output_type": "stream",
     "text": [
      "LCM is:  12\n",
      "GCF is:  4\n"
     ]
    }
   ],
   "source": [
    "#function for computing least common multiple\n",
    "\n",
    "def lcm(x,y):\n",
    "\n",
    "    if x > y:\n",
    "        greater = x\n",
    "    else:\n",
    "        greater = y\n",
    "    while True:\n",
    "        if greater % x == 0 and greater % y == 0:\n",
    "            lcm = greater\n",
    "            break\n",
    "        greater += 1\n",
    "    return lcm\n",
    "\n",
    "num1 = 4\n",
    "num2 = 6\n",
    "\n",
    "print(\"LCM is: \", lcm(num1, num2))\n",
    "\n",
    "#gcf function\n",
    "\n",
    "def gcf(x, y):\n",
    "    while(y):\n",
    "        x, y = y, x % y\n",
    "    return x\n",
    "\n",
    "num3 = 16\n",
    "num4 = 4\n",
    "\n",
    "print(\"GCF is: \", gcf(num3, num4))"
   ]
  },
  {
   "cell_type": "code",
   "execution_count": null,
   "id": "f9b49631",
   "metadata": {},
   "outputs": [],
   "source": [
    "#Paragraph Analyzer"
   ]
  },
  {
   "cell_type": "code",
   "execution_count": 3,
   "id": "2b89d4cb",
   "metadata": {
    "scrolled": true
   },
   "outputs": [
    {
     "name": "stdout",
     "output_type": "stream",
     "text": [
      "Please type a passage with at lesat 200 characters:I’m thankful that my life doth not deceive  Itself with a low loftiness, half height,  And think it soars when still it dip its way  Beneath the clouds on noiseless pinion  Like the crow or owl, but it doth know  The full extent of all its trivialness,  Compared with the splendid heights above.  See how it waits to watch the mail come in  While ’hind its back the sun goes out perchance.  And yet their lumbering cart brings me no word,  Not one scrawled leaf such as my neighbors get  To cheer them with the slight events forsooth,  Faint ups and downs of their far distant friends—  And now ’tis passed. What next? See the long train  Of teams wreathed in dust, their atmosphere;  Shall I attend until the last is passed?  Else why these ears that hear the leader’s bells  Or eyes that link me in procession?  But hark! the drowsy day has done its task,  Far in yon hazy field where stands a barn,  Unanxious hens improve the sultry hour  And with contented voice now brag their deed—  A new laid egg—Now let the day decline—  They’ll lay another by tomorrow’s sun.\n",
      "Please type a letter you want to scan:t\n",
      "There were 86 occurences of the letter t in the given passge.\n"
     ]
    }
   ],
   "source": [
    "#user input prompt\n",
    "\n",
    "para = input('Please type a passage with at lesat 200 characters:')\n",
    "letter = input ('Please type a letter you want to scan:')\n",
    "para = para + '#'\n",
    "review_letter = para [0]\n",
    "letter_count = 0\n",
    "char_count = 0\n",
    "\n",
    "#loop start\n",
    "\n",
    "while review_letter != '#':\n",
    "    if letter != review_letter:\n",
    "        char_count = char_count + 1\n",
    "        review_letter = para[char_count]\n",
    "        continue\n",
    "    else:\n",
    "        letter_count = letter_count + 1\n",
    "    char_count += 1\n",
    "    review_letter = para[char_count]\n",
    "\n",
    "#output\n",
    "\n",
    "print('There were', letter_count, 'occurences of the letter', letter, 'in the given passge.')"
   ]
  },
  {
   "cell_type": "markdown",
   "id": "b4590759",
   "metadata": {},
   "source": []
  }
 ],
 "metadata": {
  "kernelspec": {
   "display_name": "Python 3 (ipykernel)",
   "language": "python",
   "name": "python3"
  },
  "language_info": {
   "codemirror_mode": {
    "name": "ipython",
    "version": 3
   },
   "file_extension": ".py",
   "mimetype": "text/x-python",
   "name": "python",
   "nbconvert_exporter": "python",
   "pygments_lexer": "ipython3",
   "version": "3.11.5"
  }
 },
 "nbformat": 4,
 "nbformat_minor": 5
}
